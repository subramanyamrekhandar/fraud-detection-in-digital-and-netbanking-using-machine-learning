{
  "cells": [
    {
      "cell_type": "markdown",
      "source": [
        "**Since you already have a fraud detection or any dataset, you can train a machine learning model (like Decision Tree, Random Forest, or Logistic Regression) and save it as a pickle (.pkl) file.**\n",
        "\n",
        "Here specific I am train model is Random forest"
      ],
      "metadata": {
        "id": "6rDVx2W3ICOl"
      }
    },
    {
      "cell_type": "code",
      "source": [
        "import pandas as pd\n",
        "import numpy as np\n",
        "from sklearn.model_selection import train_test_split\n",
        "# from sklearn.ensemble import RandomForestClassifier # randome forest model\n",
        "from sklearn.tree import DecisionTreeClassifier   # dicision tree model\n",
        "import pickle\n",
        "\n",
        "# Load dataset\n",
        "df = pd.read_csv(\"/content/sample_data/PS_20174392719_1491204439457_log.csv\")  # Update with actual filename\n",
        "\n",
        "# Drop unnecessary columns (nameOrig and nameDest are just IDs)\n",
        "df = df.drop([\"nameOrig\", \"nameDest\"], axis=1)\n",
        "\n",
        "# Handle missing values\n",
        "df = df.fillna(0)  # Replace NaN with 0\n",
        "\n",
        "# Convert categorical 'type' column into numerical values\n",
        "df[\"type\"] = df[\"type\"].map({\"CASH_OUT\": 1, \"PAYMENT\": 2, \"CASH_IN\": 3, \"TRANSFER\": 4, \"DEBIT\": 5})\n",
        "\n",
        "# Ensure no NaN values in target variable\n",
        "df[\"isFraud\"] = df[\"isFraud\"].fillna(0)\n",
        "\n",
        "# Define features (X) and target variable (y)\n",
        "X = df.drop([\"isFraud\", \"isFlaggedFraud\"], axis=1)  # Remove target columns\n",
        "y = df[\"isFraud\"]\n",
        "\n",
        "# Convert to NumPy array and flatten if necessary\n",
        "y = y.values.ravel()\n",
        "\n",
        "# Split dataset (80% train, 20% test)\n",
        "X_train, X_test, y_train, y_test = train_test_split(X, y, test_size=0.2, random_state=42)\n",
        "\n",
        "# Check for NaN values\n",
        "print(\"NaN in y_train:\", np.isnan(y_train).sum())  # Should be 0\n",
        "print(\"NaN in X_train:\", np.isnan(X_train).sum())  # Should be 0\n",
        "\n"
      ],
      "metadata": {
        "colab": {
          "base_uri": "https://localhost:8080/"
        },
        "id": "UUSui8YgIB2l",
        "outputId": "96bf0a20-2566-4ef3-9031-6d181bdacc37"
      },
      "execution_count": 1,
      "outputs": [
        {
          "output_type": "stream",
          "name": "stdout",
          "text": [
            "NaN in y_train: 0\n",
            "NaN in X_train: step              0\n",
            "type              0\n",
            "amount            0\n",
            "oldbalanceOrg     0\n",
            "newbalanceOrig    0\n",
            "oldbalanceDest    0\n",
            "newbalanceDest    0\n",
            "dtype: int64\n"
          ]
        }
      ]
    },
    {
      "cell_type": "code",
      "source": [
        "# Train  model\n",
        "# model = RandomForestClassifier(n_estimators=100, random_state=42) # RandomForest model\n",
        "model = DecisionTreeClassifier(random_state=42)  # Dicision model\n",
        "model.fit(X_train, y_train)\n",
        "\n",
        "# Evaluate the model\n",
        "accuracy = model.score(X_test, y_test)\n",
        "print(f\"Model Accuracy: {accuracy:.4f}\")\n",
        "\n",
        "# Save the model as a pickle file\n",
        "with open(\"/content/sample_data/model.pkl\", \"wb\") as file:\n",
        "    pickle.dump(model, file)\n",
        "\n",
        "print(\"Model saved successfully as static/model.pkl!\")\n"
      ],
      "metadata": {
        "colab": {
          "base_uri": "https://localhost:8080/"
        },
        "id": "dSV9HWBFIINX",
        "outputId": "89d12006-8b41-4c81-d96d-d4a5d0bb03a0"
      },
      "execution_count": 3,
      "outputs": [
        {
          "output_type": "stream",
          "name": "stdout",
          "text": [
            "Model Accuracy: 0.9996\n",
            "Model saved successfully as static/model.pkl!\n"
          ]
        }
      ]
    }
  ],
  "metadata": {
    "kernelspec": {
      "display_name": "Python 3",
      "language": "python",
      "name": "python3"
    },
    "language_info": {
      "codemirror_mode": {
        "name": "ipython",
        "version": 3
      },
      "file_extension": ".py",
      "mimetype": "text/x-python",
      "name": "python",
      "nbconvert_exporter": "python",
      "pygments_lexer": "ipython3",
      "version": "3.8.10"
    },
    "orig_nbformat": 4,
    "vscode": {
      "interpreter": {
        "hash": "916dbcbb3f70747c44a77c7bcd40155683ae19c65e1c03b4aa3499c5328201f1"
      }
    },
    "colab": {
      "provenance": []
    }
  },
  "nbformat": 4,
  "nbformat_minor": 0
}